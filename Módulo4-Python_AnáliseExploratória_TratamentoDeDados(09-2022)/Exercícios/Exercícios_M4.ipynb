{
  "nbformat": 4,
  "nbformat_minor": 0,
  "metadata": {
    "colab": {
      "provenance": [],
      "toc_visible": true
    },
    "kernelspec": {
      "name": "python3",
      "display_name": "Python 3"
    },
    "language_info": {
      "name": "python"
    }
  },
  "cells": [
    {
      "cell_type": "markdown",
      "source": [
        "# Módulo 4 - Python / Análise exploratória e tratamento de dados\n",
        "\n"
      ],
      "metadata": {
        "id": "T2rlpd3EWZk-"
      }
    },
    {
      "cell_type": "markdown",
      "source": [
        "Antes de tudo, é preciso importar as bibliotecas necessárias para realizar as atividades a seguir:"
      ],
      "metadata": {
        "id": "VkZMQbvrWOQG"
      }
    },
    {
      "cell_type": "code",
      "source": [
        "import pandas as pd\n",
        "import numpy as np "
      ],
      "metadata": {
        "id": "pePvzEctUR95"
      },
      "execution_count": 33,
      "outputs": []
    },
    {
      "cell_type": "markdown",
      "source": [
        "### Exercícios:"
      ],
      "metadata": {
        "id": "kC9qYykeW0T6"
      }
    },
    {
      "cell_type": "markdown",
      "source": [
        "### Atividade - primeira série!\n",
        "\n",
        "* Criar duas *series* pandas com 4 posições cada, realizar as quatro operações matemáticas básicas e mostrar o resultado;\n",
        "\n",
        "* Criar uma terceira *serie* pandas com apenas 3 posições, realizar as quatro operações matemáticas básicas com uma das series do exercício anterior e explicar o resultado."
      ],
      "metadata": {
        "id": "1N4ThjwCUVE_"
      }
    },
    {
      "cell_type": "code",
      "source": [
        "serie1 = pd.Series([5, 10, 15, 20], index = ['a','b','c','d'])\n",
        "serie2 = pd.Series([1, 2, 3, 4], index = ['a','b','c','d'])"
      ],
      "metadata": {
        "id": "9wASY5T7Uvnb"
      },
      "execution_count": 61,
      "outputs": []
    },
    {
      "cell_type": "markdown",
      "source": [
        "Adição:"
      ],
      "metadata": {
        "id": "3gIO0mzMV_rb"
      }
    },
    {
      "cell_type": "code",
      "source": [
        "serie1 + serie2"
      ],
      "metadata": {
        "colab": {
          "base_uri": "https://localhost:8080/"
        },
        "id": "Tbf_1e42V9Z0",
        "outputId": "cf3493bd-1fd2-4d19-9761-2a5002f97384"
      },
      "execution_count": 62,
      "outputs": [
        {
          "output_type": "execute_result",
          "data": {
            "text/plain": [
              "a     6\n",
              "b    12\n",
              "c    18\n",
              "d    24\n",
              "dtype: int64"
            ]
          },
          "metadata": {},
          "execution_count": 62
        }
      ]
    },
    {
      "cell_type": "markdown",
      "source": [
        "Subtração:"
      ],
      "metadata": {
        "id": "sVrJW2nSWDP5"
      }
    },
    {
      "cell_type": "code",
      "source": [
        "serie1 - serie2"
      ],
      "metadata": {
        "colab": {
          "base_uri": "https://localhost:8080/"
        },
        "id": "Xm2WSQW9WIpM",
        "outputId": "dd29f25b-a8a6-4b2b-b818-6f8feb2b5a33"
      },
      "execution_count": 63,
      "outputs": [
        {
          "output_type": "execute_result",
          "data": {
            "text/plain": [
              "a     4\n",
              "b     8\n",
              "c    12\n",
              "d    16\n",
              "dtype: int64"
            ]
          },
          "metadata": {},
          "execution_count": 63
        }
      ]
    },
    {
      "cell_type": "markdown",
      "source": [
        "Multiplicação:"
      ],
      "metadata": {
        "id": "pKNQq8_QWE08"
      }
    },
    {
      "cell_type": "code",
      "source": [
        "serie1 * serie2"
      ],
      "metadata": {
        "colab": {
          "base_uri": "https://localhost:8080/"
        },
        "id": "2fhOrQiSWINO",
        "outputId": "f7807ef6-14fb-4454-dd6b-78371a616200"
      },
      "execution_count": 64,
      "outputs": [
        {
          "output_type": "execute_result",
          "data": {
            "text/plain": [
              "a     5\n",
              "b    20\n",
              "c    45\n",
              "d    80\n",
              "dtype: int64"
            ]
          },
          "metadata": {},
          "execution_count": 64
        }
      ]
    },
    {
      "cell_type": "markdown",
      "source": [
        "Divisão:"
      ],
      "metadata": {
        "id": "K1t6LyrrWGEU"
      }
    },
    {
      "cell_type": "code",
      "source": [
        "serie1 / serie2"
      ],
      "metadata": {
        "colab": {
          "base_uri": "https://localhost:8080/"
        },
        "id": "WLZ9hgzAWJF7",
        "outputId": "7edc18a2-78d2-4d1e-917d-ff158591fbec"
      },
      "execution_count": 65,
      "outputs": [
        {
          "output_type": "execute_result",
          "data": {
            "text/plain": [
              "a    5.0\n",
              "b    5.0\n",
              "c    5.0\n",
              "d    5.0\n",
              "dtype: float64"
            ]
          },
          "metadata": {},
          "execution_count": 65
        }
      ]
    },
    {
      "cell_type": "markdown",
      "source": [
        "Criando Série com 3 posições:"
      ],
      "metadata": {
        "id": "ke0IWZeZdUMB"
      }
    },
    {
      "cell_type": "code",
      "source": [
        "serie3 = pd.Series([i for i in range(3,9 + 1, 3)], index = ['a','b','c'])\n",
        "serie3"
      ],
      "metadata": {
        "colab": {
          "base_uri": "https://localhost:8080/"
        },
        "id": "fSbH8dGQcsWK",
        "outputId": "b7900d34-915d-42b8-9d1d-e74c9a391e92"
      },
      "execution_count": 78,
      "outputs": [
        {
          "output_type": "execute_result",
          "data": {
            "text/plain": [
              "a    3\n",
              "b    6\n",
              "c    9\n",
              "dtype: int64"
            ]
          },
          "metadata": {},
          "execution_count": 78
        }
      ]
    },
    {
      "cell_type": "markdown",
      "source": [
        "Adição:"
      ],
      "metadata": {
        "id": "98A5O6EqdZCo"
      }
    },
    {
      "cell_type": "code",
      "source": [
        "serie3 + serie2"
      ],
      "metadata": {
        "colab": {
          "base_uri": "https://localhost:8080/"
        },
        "id": "vHSEA_15c7p8",
        "outputId": "d634ca0c-76a2-4058-c736-9ea61a0574e5"
      },
      "execution_count": 79,
      "outputs": [
        {
          "output_type": "execute_result",
          "data": {
            "text/plain": [
              "a     4.0\n",
              "b     8.0\n",
              "c    12.0\n",
              "d     NaN\n",
              "dtype: float64"
            ]
          },
          "metadata": {},
          "execution_count": 79
        }
      ]
    },
    {
      "cell_type": "markdown",
      "source": [
        "Subtração:"
      ],
      "metadata": {
        "id": "RoWzVIK1dc98"
      }
    },
    {
      "cell_type": "code",
      "source": [
        "serie3 - serie2"
      ],
      "metadata": {
        "colab": {
          "base_uri": "https://localhost:8080/"
        },
        "id": "z1kPTsHjdBlR",
        "outputId": "cfe0d081-a103-4bca-b542-3befb4a34b2c"
      },
      "execution_count": 80,
      "outputs": [
        {
          "output_type": "execute_result",
          "data": {
            "text/plain": [
              "a    2.0\n",
              "b    4.0\n",
              "c    6.0\n",
              "d    NaN\n",
              "dtype: float64"
            ]
          },
          "metadata": {},
          "execution_count": 80
        }
      ]
    },
    {
      "cell_type": "markdown",
      "source": [
        "Multiplicação:"
      ],
      "metadata": {
        "id": "gucK7mzSdjkN"
      }
    },
    {
      "cell_type": "code",
      "source": [
        "serie3 * serie2"
      ],
      "metadata": {
        "colab": {
          "base_uri": "https://localhost:8080/"
        },
        "id": "z42dpLgOdizV",
        "outputId": "538b22a4-52ec-48b1-dc62-7d8a72c31087"
      },
      "execution_count": 81,
      "outputs": [
        {
          "output_type": "execute_result",
          "data": {
            "text/plain": [
              "a     3.0\n",
              "b    12.0\n",
              "c    27.0\n",
              "d     NaN\n",
              "dtype: float64"
            ]
          },
          "metadata": {},
          "execution_count": 81
        }
      ]
    },
    {
      "cell_type": "markdown",
      "source": [
        "Divisão:"
      ],
      "metadata": {
        "id": "tsk2qYVHdmWU"
      }
    },
    {
      "cell_type": "code",
      "source": [
        "serie3 / serie2"
      ],
      "metadata": {
        "colab": {
          "base_uri": "https://localhost:8080/"
        },
        "id": "UWpX42GcdmnV",
        "outputId": "a7fb86c0-1868-4e3d-d502-a7f0cce41dcf"
      },
      "execution_count": 82,
      "outputs": [
        {
          "output_type": "execute_result",
          "data": {
            "text/plain": [
              "a    3.0\n",
              "b    3.0\n",
              "c    3.0\n",
              "d    NaN\n",
              "dtype: float64"
            ]
          },
          "metadata": {},
          "execution_count": 82
        }
      ]
    },
    {
      "cell_type": "markdown",
      "source": [
        "Resultado: A operações são feitas levando em consideração o índice, quando o índice é presente em apenas uma das series, o valor retornado é nele nulo"
      ],
      "metadata": {
        "id": "JT1ocgAreDmH"
      }
    },
    {
      "cell_type": "markdown",
      "source": [
        "### Atividade - Fusão\n",
        "\n",
        "* Crie uma array numpy com os números [10 20 30 40 50 60 70]\n",
        "\n",
        "* Subtraia 5 de todosos números do array e reatribua no array original \n",
        "\n",
        "\n",
        "* Converta o array para uma serie do pandas (Veja o tipo do array antes e depois dessa etapa)\n"
      ],
      "metadata": {
        "id": "3uQfh4qqlMCK"
      }
    },
    {
      "cell_type": "code",
      "source": [
        "array = np.array([i for i in range(10,70+1, 10)])\n",
        "array"
      ],
      "metadata": {
        "colab": {
          "base_uri": "https://localhost:8080/"
        },
        "id": "J9RRxleWm6V6",
        "outputId": "7581a06d-640d-45f3-bda8-4c75d1d70dea"
      },
      "execution_count": 119,
      "outputs": [
        {
          "output_type": "execute_result",
          "data": {
            "text/plain": [
              "array([10, 20, 30, 40, 50, 60, 70])"
            ]
          },
          "metadata": {},
          "execution_count": 119
        }
      ]
    },
    {
      "cell_type": "code",
      "source": [
        "array -= 5\n",
        "array"
      ],
      "metadata": {
        "colab": {
          "base_uri": "https://localhost:8080/"
        },
        "id": "uAH0UR_dnVKY",
        "outputId": "f1940a27-9d7d-4e1b-d7c9-fedb8a5b4ea2"
      },
      "execution_count": 120,
      "outputs": [
        {
          "output_type": "execute_result",
          "data": {
            "text/plain": [
              "array([ 5, 15, 25, 35, 45, 55, 65])"
            ]
          },
          "metadata": {},
          "execution_count": 120
        }
      ]
    },
    {
      "cell_type": "code",
      "source": [
        "type(array)"
      ],
      "metadata": {
        "colab": {
          "base_uri": "https://localhost:8080/"
        },
        "id": "1SPgzsSlnpm5",
        "outputId": "d58593b7-5486-4931-83f4-d6b1ac817bec"
      },
      "execution_count": 115,
      "outputs": [
        {
          "output_type": "execute_result",
          "data": {
            "text/plain": [
              "numpy.ndarray"
            ]
          },
          "metadata": {},
          "execution_count": 115
        }
      ]
    },
    {
      "cell_type": "code",
      "source": [
        "array = pd.Series(array)\n",
        "array"
      ],
      "metadata": {
        "colab": {
          "base_uri": "https://localhost:8080/"
        },
        "id": "tcJCB61XoSwu",
        "outputId": "ffffb7ed-39f5-42b4-a1c7-beb55b300e44"
      },
      "execution_count": 117,
      "outputs": [
        {
          "output_type": "execute_result",
          "data": {
            "text/plain": [
              "0     5\n",
              "1    15\n",
              "2    25\n",
              "3    35\n",
              "4    45\n",
              "5    55\n",
              "6    65\n",
              "dtype: int64"
            ]
          },
          "metadata": {},
          "execution_count": 117
        }
      ]
    },
    {
      "cell_type": "code",
      "source": [
        "type(array)"
      ],
      "metadata": {
        "colab": {
          "base_uri": "https://localhost:8080/"
        },
        "id": "FUgAmGtPomV8",
        "outputId": "58ffb5f9-a861-4317-d478-72d1bf8e5977"
      },
      "execution_count": 118,
      "outputs": [
        {
          "output_type": "execute_result",
          "data": {
            "text/plain": [
              "pandas.core.series.Series"
            ]
          },
          "metadata": {},
          "execution_count": 118
        }
      ]
    },
    {
      "cell_type": "markdown",
      "source": [
        "### Atividade - Operando DataFrames!\n",
        "\n",
        "* Criar um DataFrame com duas linhas e duas colunas de valroes inteiros;\n",
        "\n",
        "* Depois de criado, atualizar os valores da primeira coluna multiplicando os valores existentes por 2;\n",
        "\n",
        "* Criar uma nova coluna com todos os valores nulos;\n",
        "\n",
        "* Excluir a nova coluna criada;"
      ],
      "metadata": {
        "id": "8u8GMzI0nHeC"
      }
    },
    {
      "cell_type": "markdown",
      "source": [
        "### Atividade - Manipulando DataFrames\n",
        "\n",
        "* Criar um dataframe que carregue os dados a partir do arquivo disponibilizado no seguinte link: https://people.sc.fsu.edu/~jburkardt/data/csv/nile.csv\n",
        "\n",
        "* Imprimir as linhas 2 e 4 do DataFrame carregado;\n",
        "\n",
        "* Imprimir as linhas que tiveram a coluna \"Year\" inferior a 10;\n",
        "\n",
        "* Imprimir o valor da coluna \"Flood\" no quinto ano;\n",
        "\n",
        "* Imprimir as linhas que tiveram as colunas \"Year\" e \"Flood\" inferiores a 10;"
      ],
      "metadata": {
        "id": "-WwgR-aNqubH"
      }
    }
  ]
}